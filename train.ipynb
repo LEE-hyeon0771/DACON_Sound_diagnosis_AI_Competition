{
 "cells": [
  {
   "cell_type": "code",
   "execution_count": 3,
   "id": "99e1f8d5",
   "metadata": {},
   "outputs": [],
   "source": [
    "import random\n",
    "import pandas as pd\n",
    "import numpy as np\n",
    "import os\n",
    "import librosa\n",
    "\n",
    "from tqdm.auto import tqdm\n",
    "\n",
    "from sklearn.neural_network import MLPClassifier\n",
    "from sklearn.preprocessing import OneHotEncoder\n",
    "\n",
    "import warnings\n",
    "warnings.filterwarnings(action='ignore') "
   ]
  },
  {
   "cell_type": "code",
   "execution_count": 4,
   "id": "c0fcdcc3",
   "metadata": {},
   "outputs": [],
   "source": [
    "CFG = {\n",
    "    'SR':16000,\n",
    "    'N_MFCC':32, # MFCC 벡터를 추출할 개수\n",
    "    'SEED':41\n",
    "}"
   ]
  },
  {
   "cell_type": "code",
   "execution_count": 5,
   "id": "3fb1f564",
   "metadata": {},
   "outputs": [],
   "source": [
    "def seed_everything(seed):\n",
    "    random.seed(seed)\n",
    "    os.environ['PYTHONHASHSEED'] = str(seed)\n",
    "    np.random.seed(seed)\n",
    "\n",
    "seed_everything(CFG['SEED']) # Seed 고정"
   ]
  },
  {
   "cell_type": "code",
   "execution_count": 6,
   "id": "2c7a8c5e",
   "metadata": {},
   "outputs": [],
   "source": [
    "train_df = pd.read_csv('./train_data.csv')\n",
    "test_df = pd.read_csv('./test_data.csv')"
   ]
  },
  {
   "cell_type": "code",
   "execution_count": 7,
   "id": "22094c3d",
   "metadata": {},
   "outputs": [],
   "source": [
    "def get_mfcc_feature(df, data_type, save_path):\n",
    "    # Data Folder path\n",
    "#     root_folder = './wav_dataset'\n",
    "    root_folder = './'\n",
    "    if os.path.exists(save_path):\n",
    "        print(f'{save_path} is exist.')\n",
    "        return\n",
    "    features = []\n",
    "    for uid in tqdm(df['id']):\n",
    "        root_path = os.path.join(root_folder, data_type)\n",
    "        path = os.path.join(root_path, str(uid).zfill(5)+'.wav')\n",
    "\n",
    "        # librosa패키지를 사용하여 wav 파일 load\n",
    "        y, sr = librosa.load(path, sr=CFG['SR'])\n",
    "        \n",
    "        # librosa패키지를 사용하여 mfcc 추출\n",
    "        mfcc = librosa.feature.mfcc(y=y, sr=sr, n_mfcc=CFG['N_MFCC'])\n",
    "\n",
    "        y_feature = []\n",
    "        # 추출된 MFCC들의 평균을 Feature로 사용\n",
    "        for e in mfcc:\n",
    "            y_feature.append(np.mean(e))\n",
    "        features.append(y_feature)\n",
    "    \n",
    "    # 기존의 자가진단 정보를 담은 데이터프레임에 추출된 오디오 Feature를 추가\n",
    "    mfcc_df = pd.DataFrame(features, columns=['mfcc_'+str(x) for x in range(1,CFG['N_MFCC']+1)])\n",
    "    df = pd.concat([df, mfcc_df], axis=1)\n",
    "    df.to_csv(save_path, index=False)\n",
    "    print('Done.')"
   ]
  },
  {
   "cell_type": "code",
   "execution_count": 8,
   "id": "5eb8d0f2",
   "metadata": {},
   "outputs": [
    {
     "name": "stdout",
     "output_type": "stream",
     "text": [
      "./train_mfcc_data.csv is exist.\n",
      "./test_mfcc_data.csv is exist.\n"
     ]
    }
   ],
   "source": [
    "get_mfcc_feature(train_df, 'train', './train_mfcc_data.csv')\n",
    "get_mfcc_feature(test_df, 'test', './test_mfcc_data.csv')"
   ]
  },
  {
   "cell_type": "code",
   "execution_count": 9,
   "id": "88d54734",
   "metadata": {},
   "outputs": [],
   "source": [
    "# wav 파일의 MFCC Feature와 상태정보를 합친 학습데이터를 불러옵니다.\n",
    "train_df = pd.read_csv('./train_mfcc_data.csv')\n",
    "\n",
    "# 학습데이터를 모델의 input으로 들어갈 x와 label로 사용할 y로 분할\n",
    "train_x = train_df.drop(columns=['id', 'covid19'])\n",
    "train_y = train_df['covid19']"
   ]
  },
  {
   "cell_type": "code",
   "execution_count": 10,
   "id": "73ba4e7d",
   "metadata": {},
   "outputs": [],
   "source": [
    "def onehot_encoding(ohe, x):\n",
    "    # 학습데이터로 부터 fit된 one-hot encoder (ohe)를 받아 transform 시켜주는 함수\n",
    "    encoded = ohe.transform(x['gender'].values.reshape(-1,1))\n",
    "    encoded_df = pd.DataFrame(encoded, columns=ohe.categories_[0])\n",
    "    x = pd.concat([x.drop(columns=['gender']), encoded_df], axis=1)\n",
    "    return x"
   ]
  },
  {
   "cell_type": "code",
   "execution_count": 11,
   "id": "5a652c57",
   "metadata": {},
   "outputs": [],
   "source": [
    "# 'gender' column의 경우 추가 전처리가 필요 -> OneHotEncoder 적용\n",
    "ohe = OneHotEncoder(sparse=False)\n",
    "ohe.fit(train_x['gender'].values.reshape(-1,1))\n",
    "train_x = onehot_encoding(ohe, train_x)"
   ]
  },
  {
   "cell_type": "code",
   "execution_count": 12,
   "id": "05dd3680",
   "metadata": {},
   "outputs": [
    {
     "data": {
      "text/plain": [
       "MLPClassifier(random_state=41)"
      ]
     },
     "execution_count": 12,
     "metadata": {},
     "output_type": "execute_result"
    }
   ],
   "source": [
    "model = MLPClassifier(random_state=CFG['SEED']) # Sklearn에서 제공하는 Multi-layer Perceptron classifier 사용\n",
    "model.fit(train_x, train_y) # Model Train"
   ]
  },
  {
   "cell_type": "code",
   "execution_count": 13,
   "id": "5282739a",
   "metadata": {},
   "outputs": [],
   "source": [
    "# 위의 학습데이터를 전처리한 과정과 동일하게 test data에도 적용\n",
    "test_x = pd.read_csv('./test_mfcc_data.csv')\n",
    "test_x = test_x.drop(columns=['id'])\n",
    "# Data Leakage에 유의하여 train data로만 학습된 ohe를 사용\n",
    "test_x = onehot_encoding(ohe, test_x)\n",
    "\n",
    "# Model 추론\n",
    "preds = model.predict(test_x)"
   ]
  },
  {
   "cell_type": "code",
   "execution_count": 14,
   "id": "d72bb127",
   "metadata": {},
   "outputs": [],
   "source": [
    "submission = pd.read_csv('./sample_submission.csv')\n",
    "submission['covid19'] = preds\n",
    "submission.to_csv('./submit.csv', index=False)"
   ]
  },
  {
   "cell_type": "code",
   "execution_count": null,
   "id": "8c00e671",
   "metadata": {},
   "outputs": [],
   "source": []
  }
 ],
 "metadata": {
  "kernelspec": {
   "display_name": "Python 3 (ipykernel)",
   "language": "python",
   "name": "python3"
  },
  "language_info": {
   "codemirror_mode": {
    "name": "ipython",
    "version": 3
   },
   "file_extension": ".py",
   "mimetype": "text/x-python",
   "name": "python",
   "nbconvert_exporter": "python",
   "pygments_lexer": "ipython3",
   "version": "3.9.7"
  }
 },
 "nbformat": 4,
 "nbformat_minor": 5
}
